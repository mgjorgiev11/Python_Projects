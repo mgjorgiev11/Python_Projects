{
 "cells": [
  {
   "cell_type": "code",
   "execution_count": 1,
   "id": "aa9194cf-a37b-4d1b-885f-62b9f11528d1",
   "metadata": {},
   "outputs": [],
   "source": [
    "import random\n",
    "import statistics\n",
    "from collections import defaultdict, deque\n",
    "import threading\n",
    "import numpy as np\n",
    "import gymnasium as gym\n",
    "import plotly.graph_objects as go\n",
    "import ipywidgets as widgets"
   ]
  },
  {
   "cell_type": "code",
   "execution_count": 2,
   "id": "ec8496aa-230d-4ec1-be27-3f42b37eaf7c",
   "metadata": {},
   "outputs": [],
   "source": [
    "# Defining the constants for Q-learning\n",
    "ALPHA = 0.15\n",
    "GAMMA = 0.95\n",
    "EPSILON = 0.2"
   ]
  },
  {
   "cell_type": "code",
   "execution_count": 3,
   "id": "5d1ac3fe-c177-4b69-8941-664b0822ccf1",
   "metadata": {},
   "outputs": [],
   "source": [
    "# Number of bins for discretizing the continuous state space\n",
    "N_BINS_X = 30\n",
    "N_BINS_X_DOT = 30\n",
    "N_BINS_THETA = 30\n",
    "N_BINS_THETA_DOT = 30"
   ]
  },
  {
   "cell_type": "code",
   "execution_count": 4,
   "id": "f2526f82-34aa-4fdd-9060-ddac03d67a63",
   "metadata": {},
   "outputs": [
    {
     "data": {
      "text/plain": [
       "array([-2.4       , -2.23448276, -2.06896552, -1.90344828, -1.73793103,\n",
       "       -1.57241379, -1.40689655, -1.24137931, -1.07586207, -0.91034483,\n",
       "       -0.74482759, -0.57931034, -0.4137931 , -0.24827586, -0.08275862,\n",
       "        0.08275862,  0.24827586,  0.4137931 ,  0.57931034,  0.74482759,\n",
       "        0.91034483,  1.07586207,  1.24137931,  1.40689655,  1.57241379,\n",
       "        1.73793103,  1.90344828,  2.06896552,  2.23448276,  2.4       ])"
      ]
     },
     "execution_count": 4,
     "metadata": {},
     "output_type": "execute_result"
    }
   ],
   "source": [
    "# Boundaries for the state variables in the CartPole environment\n",
    "x_low, x_high = -2.4, 2.4\n",
    "x_dot_low, x_dot_high = -4, 4\n",
    "theta_low, theta_high = -0.209439, 0.209439\n",
    "theta_dot_low, theta_dot_high = -4, 4\n",
    "# Create bins for discretization of the state space\n",
    "bins_x = np.linspace(x_low, x_high, num=N_BINS_X)\n",
    "bins_x_dot = np.linspace(x_dot_low, x_dot_high, num=N_BINS_X_DOT)\n",
    "bins_theta = np.linspace(theta_low, theta_high, num=N_BINS_THETA)\n",
    "bins_theta_dot = np.linspace(theta_dot_low, theta_dot_high, num=N_BINS_THETA_DOT)\n",
    "BINS = [bins_x, bins_x_dot, bins_theta, bins_theta_dot]\n",
    "bins_x"
   ]
  },
  {
   "cell_type": "code",
   "execution_count": 5,
   "id": "913d165e-bd6c-42ef-91f7-7363dde472b6",
   "metadata": {},
   "outputs": [
    {
     "data": {
      "text/plain": [
       "(22, 22, 18, 30)"
      ]
     },
     "execution_count": 5,
     "metadata": {},
     "output_type": "execute_result"
    }
   ],
   "source": [
    "def get_state_from_observation(observation): # Function to convert continuous state variables into discrete states using digitization\n",
    "    return tuple([np.digitize(var, bins) for var, bins in zip(observation, BINS)])\n",
    "\n",
    "get_state_from_observation([1.2, 2, 0.045, 4])"
   ]
  },
  {
   "cell_type": "code",
   "execution_count": 6,
   "id": "43694dd7-cc8e-4bdb-9c6b-20ebc0efed3f",
   "metadata": {},
   "outputs": [],
   "source": [
    "def policy(env, i_state, Q, episode): # Epsilon-greedy policy for action selection\n",
    "    if np.random.uniform(0,1) < EPSILON:\n",
    "        action = env.action_space.sample()\n",
    "    else:\n",
    "        if len(Q[i_state].items()) == 0:\n",
    "            action = env.action_space.sample()\n",
    "        else:\n",
    "            action, _ = max(Q[i_state].items(), key=lambda x: x[1])\n",
    "    return action"
   ]
  },
  {
   "cell_type": "code",
   "execution_count": 7,
   "id": "d92e2574-987c-4ea1-a1a7-fa02def2a6e6",
   "metadata": {},
   "outputs": [],
   "source": [
    "def update_q(Q, i_state, i_next_state, action, reward): # Q-learning update rule\n",
    "    max_q_value = max(Q[i_next_state].values(), default=0) # Max Q-value for next state\n",
    "    TD = reward + GAMMA * max_q_value - Q[i_state][action] # Temporal difference error\n",
    "    Q[i_state][action] += ALPHA * TD # Update Q-table"
   ]
  },
  {
   "cell_type": "code",
   "execution_count": 10,
   "id": "2a8eb8d2-ec06-4904-a04f-aa8cb35ee95e",
   "metadata": {},
   "outputs": [
    {
     "data": {
      "application/vnd.jupyter.widget-view+json": {
       "model_id": "5a91111d301d4e47918134e4911c814c",
       "version_major": 2,
       "version_minor": 0
      },
      "text/plain": [
       "Button(button_style='danger', description='Stop Training', style=ButtonStyle())"
      ]
     },
     "metadata": {},
     "output_type": "display_data"
    },
    {
     "data": {
      "text/plain": [
       "<Thread(Thread-5 (sim), started 16784)>"
      ]
     },
     "execution_count": 10,
     "metadata": {},
     "output_type": "execute_result"
    },
    {
     "data": {
      "application/vnd.jupyter.widget-view+json": {
       "model_id": "50b14cc8b53840298f345e72d4bea445",
       "version_major": 2,
       "version_minor": 0
      },
      "text/plain": [
       "FigureWidget({\n",
       "    'data': [{'mode': 'markers+lines',\n",
       "              'type': 'scatter',\n",
       "              'uid': 'dd301bb4-0a17-486d-b1bc-c159bd2f1b14',\n",
       "              'x': [],\n",
       "              'y': []}],\n",
       "    'layout': {'template': '...',\n",
       "               'title': {'text': 'Dashboard for training RL agents'},\n",
       "               'xaxis': {'title': {'text': 'Episode'}},\n",
       "               'yaxis': {'rangemode': 'tozero', 'title': {'text': 'Reward'}}}\n",
       "})"
      ]
     },
     "metadata": {},
     "output_type": "display_data"
    }
   ],
   "source": [
    "def dashboard(training, step_log=1000): # Dashboard to display training progress\n",
    "    h_rewards = deque(maxlen=step_log) # Store rewards for averaging\n",
    "\n",
    "    dashboard.STOP_TRAINING = False # Stop training flag and button\n",
    "    bt_stop = widgets.Button(description='Stop Training', button_style='danger')\n",
    "    def f_stop(bt_stop):\n",
    "        dashboard.STOP_TRAINING = True\n",
    "    bt_stop.on_click(f_stop)\n",
    "\n",
    "    # Set up a Plotly figure for displaying rewards during training\n",
    "    fig = go.FigureWidget()\n",
    "    fig.add_scatter(x=[], y=[], mode='markers+lines')\n",
    "    fig.layout.yaxis.rangemode = 'tozero'\n",
    "    fig.layout.title = 'Dashboard for training RL agents'\n",
    "    fig.layout.xaxis.title = 'Episode'\n",
    "    fig.layout.yaxis.title = 'Reward'\n",
    "\n",
    "    def update_sc_reward(episode, reward): # Function to update the reward plot\n",
    "        with fig.batch_update():\n",
    "            fig.data[0].x += (episode,)\n",
    "            fig.data[0].y += (reward,)\n",
    "    \n",
    "    def sim(*args, **kwargs): # Simulate training and update dashboard\n",
    "        display(bt_stop) \n",
    "        display(fig)\n",
    "        for episode, reward in training(*args, **kwargs):\n",
    "            h_rewards.append(reward)\n",
    "            if episode % step_log == 0: # Update reward plot every 'step_log' episodes\n",
    "                update_sc_reward(episode, np.mean(h_rewards))\n",
    "            if dashboard.STOP_TRAINING: # Stop training if the button is clicked\n",
    "                break\n",
    "        bt_stop.disabled = True # Disable stop button after training ends\n",
    "    \n",
    "    def thread(*args, **kwargs): # Start training in a separate thread\n",
    "        t = threading.Thread(target=sim, args=args, kwargs=kwargs)\n",
    "        t.start()\n",
    "        return t\n",
    "    return thread\n",
    "\n",
    "# Training function for the Q-learning agent\n",
    "@dashboard\n",
    "def train_q_agent(Q, n_episodes):\n",
    "    with gym.make('CartPole-v1') as env:\n",
    "        for episode in range(n_episodes):\n",
    "            observation, _ = env.reset() # Reset the environment and get initial state\n",
    "            i_state = get_state_from_observation(observation) # Convert state to discrete form\n",
    "            episode_reward = 0\n",
    "            terminated = truncated = False\n",
    "            while not (terminated or truncated): # Continue until episode ends\n",
    "                action = policy(env, i_state, Q, episode) # Select action based on policy\n",
    "                observation, reward, terminated, truncated, _ = env.step(action)\n",
    "                i_next_state = get_state_from_observation(observation)\n",
    "                episode_reward += reward\n",
    "                update_q(Q, i_state, i_next_state, action, reward) # Update Q-table\n",
    "                i_state = i_next_state\n",
    "            yield episode, episode_reward # Yield current episode number and total reward\n",
    "\n",
    "# Initialize Q-table (state-action values) as a defaultdict of defaultdicts\n",
    "Q = defaultdict(lambda: defaultdict(int))\n",
    "# Start training the Q-learning agent\n",
    "train_q_agent(Q, n_episodes=1_000_000)"
   ]
  },
  {
   "cell_type": "code",
   "execution_count": 11,
   "id": "e712768d-9e57-447c-aed3-315754395ba0",
   "metadata": {},
   "outputs": [],
   "source": [
    "from IPython.display import display, clear_output\n",
    "from PIL import Image\n",
    "import time\n",
    "\n",
    "def visualise_q_agent(Q, n_episodes=1): # Visualization function for the trained Q-learning agent\n",
    "    with gym.make('CartPole-v1', render_mode='rgb_array') as env:\n",
    "        for episode in range(n_episodes):\n",
    "            state, _ = env.reset()\n",
    "            i_state = get_state_from_observation(state)\n",
    "            terminated = truncated = False\n",
    "            frames = []  # Store frames\n",
    "\n",
    "            while not (terminated or truncated):\n",
    "                if len(Q[i_state].items()) == 0:\n",
    "                    action = env.action_space.sample()\n",
    "                else:\n",
    "                    action, _ = max(Q[i_state].items(), key=lambda x: x[1])\n",
    "                \n",
    "                state, _, terminated, truncated, _ = env.step(action)\n",
    "                i_state = get_state_from_observation(state)\n",
    "                \n",
    "                frame = env.render()\n",
    "                frames.append(frame)  # Collect frames\n",
    "\n",
    "            # Display the frames using PIL\n",
    "            for frame in frames:\n",
    "                clear_output(wait=True)\n",
    "                img = Image.fromarray(frame)  # Convert numpy array to image\n",
    "                display(img)\n",
    "                time.sleep(0.05)  # Adjust speed of animation"
   ]
  },
  {
   "cell_type": "code",
   "execution_count": 12,
   "id": "ba19fd73-3be1-4a70-9790-57bc0e3ad2b3",
   "metadata": {},
   "outputs": [
    {
     "data": {
      "image/jpeg": "[encoded data removed]",
      "image/png": "[encoded data removed]",
      "text/plain": [
       "<PIL.Image.Image image mode=RGB size=600x400>"
      ]
     },
     "metadata": {},
     "output_type": "display_data"
    },
    {
     "ename": "KeyboardInterrupt",
     "evalue": "",
     "output_type": "error",
     "traceback": [
      "\u001b[1;31m---------------------------------------------------------------------------\u001b[0m",
      "\u001b[1;31mKeyboardInterrupt\u001b[0m                         Traceback (most recent call last)",
      "Cell \u001b[1;32mIn[12], line 1\u001b[0m\n\u001b[1;32m----> 1\u001b[0m visualise_q_agent(Q, \u001b[38;5;241m1\u001b[39m)\n",
      "Cell \u001b[1;32mIn[11], line 30\u001b[0m, in \u001b[0;36mvisualise_q_agent\u001b[1;34m(Q, n_episodes)\u001b[0m\n\u001b[0;32m     28\u001b[0m img \u001b[38;5;241m=\u001b[39m Image\u001b[38;5;241m.\u001b[39mfromarray(frame)  \u001b[38;5;66;03m# Convert numpy array to image\u001b[39;00m\n\u001b[0;32m     29\u001b[0m display(img)\n\u001b[1;32m---> 30\u001b[0m time\u001b[38;5;241m.\u001b[39msleep(\u001b[38;5;241m0.05\u001b[39m)\n",
      "\u001b[1;31mKeyboardInterrupt\u001b[0m: "
     ]
    }
   ],
   "source": [
    "visualise_q_agent(Q, 1)"
   ]
  },
  {
   "cell_type": "code",
   "execution_count": null,
   "id": "f94e0221-406b-42b3-8f79-c03d76aabfea",
   "metadata": {},
   "outputs": [],
   "source": []
  }
 ],
 "metadata": {
  "kernelspec": {
   "display_name": "Python 3 (ipykernel)",
   "language": "python",
   "name": "python3"
  },
  "language_info": {
   "codemirror_mode": {
    "name": "ipython",
    "version": 3
   },
   "file_extension": ".py",
   "mimetype": "text/x-python",
   "name": "python",
   "nbconvert_exporter": "python",
   "pygments_lexer": "ipython3",
   "version": "3.12.7"
  }
 },
 "nbformat": 4,
 "nbformat_minor": 5
}
