{
 "cells": [
  {
   "cell_type": "code",
   "execution_count": 1,
   "id": "d7b25661-c91c-44a0-9250-1af5905357a3",
   "metadata": {},
   "outputs": [],
   "source": [
    "import random"
   ]
  },
  {
   "cell_type": "code",
   "execution_count": 2,
   "id": "9c223ff7-6520-4923-85fe-44618456ea75",
   "metadata": {},
   "outputs": [],
   "source": [
    "class Dice: # Represents a six sided dice\n",
    " \n",
    "    def __init__(self, value=None):\n",
    "        self._value = value # stores the current value of the dice\n",
    " \n",
    "    @property\n",
    "    def value(self):\n",
    "        return self._value\n",
    " \n",
    "    def roll(self): # rolls the dice and updates its value randomly between 1 and 6\n",
    "        new_value = random.randint(1, 6)\n",
    "        self._value = new_value\n",
    "        return new_value"
   ]
  },
  {
   "cell_type": "code",
   "execution_count": 3,
   "id": "23597499-38f7-4277-ae9d-477a122c4230",
   "metadata": {},
   "outputs": [],
   "source": [
    "class Player: # represents a player in the game\n",
    " \n",
    "    def __init__(self, dice, is_computer=False):\n",
    "        self._dice = dice # each player has a dice \n",
    "        self._is_computer = is_computer # determines if the player is a computer\n",
    "        self._counter = 10 # the counter represents the player's score\n",
    " \n",
    "    @property\n",
    "    def is_computer(self):\n",
    "        return self._is_computer \n",
    " \n",
    "    @property\n",
    "    def die(self):\n",
    "        return self._dice\n",
    " \n",
    "    @property\n",
    "    def counter(self):\n",
    "        return self._counter\n",
    " \n",
    "    def increment_counter(self):\n",
    "        self._counter += 1\n",
    " \n",
    "    def decrement_counter(self):\n",
    "        self._counter -= 1\n",
    " \n",
    "    def roll_dice(self):\n",
    "        return self._dice.roll()"
   ]
  },
  {
   "cell_type": "code",
   "execution_count": 4,
   "id": "b5c0c451-101a-4832-8031-0d0bea1ca70f",
   "metadata": {},
   "outputs": [],
   "source": [
    "class DiceGame:\n",
    " \n",
    "    def __init__(self, player, computer):\n",
    "        self.player = player\n",
    "        self.computer = computer\n",
    " \n",
    "    def play(self):\n",
    "        print(\"=============================\")\n",
    "        print(\"Welcome to Roll the Dice!\")\n",
    "        print(\"=============================\")\n",
    "        while True:\n",
    "            self.play_round()\n",
    "            game_over = self.check_game_over()\n",
    "            if game_over:\n",
    "                break\n",
    " \n",
    "    def play_round(self):\n",
    "        # Welcome the player to the round.\n",
    "        self.print_welcome()\n",
    " \n",
    "        # Roll the dice (player and computer).\n",
    "        player_value = self.player.roll_dice()\n",
    "        computer_value = self.computer.roll_dice()\n",
    " \n",
    "        # Show the values of the dice.\n",
    "        self.show_dice(player_value, computer_value)\n",
    " \n",
    "        # Determine winner or loser\n",
    "        if player_value > computer_value:\n",
    "            print(\"You won this round!\")\n",
    "            self.update_counters(winner=self.player, loser=self.computer)\n",
    "        elif computer_value > player_value:\n",
    "            print(\"The computer won this round. Try again.\")\n",
    "            self.update_counters(winner=self.computer, loser=self.player)\n",
    "        else:\n",
    "            print(\"It's a tie!\")\n",
    " \n",
    "        # Show the counters of the players\n",
    "        self.show_counters()\n",
    " \n",
    "    def print_welcome(self):\n",
    "        print(\"\\n------ New Round ------\")\n",
    "        input(\"Press any key to roll the dice.\")\n",
    " \n",
    "    def show_dice(self, player_value, computer_value):\n",
    "        print(f\"Your dice: {player_value}\")\n",
    "        print(f\"Computer dice: {computer_value}\\n\")\n",
    " \n",
    "    def show_counters(self):\n",
    "        print(f\"\\nYour counter: {self.player.counter}\")\n",
    "        print(f\"Computer counter: {self.computer.counter}\")\n",
    " \n",
    "    def update_counters(self, winner, loser):\n",
    "        winner.decrement_counter()\n",
    "        loser.increment_counter()\n",
    " \n",
    "    def check_game_over(self):\n",
    "        if self.player.counter == 0:\n",
    "            self.show_game_over(winner=self.player)\n",
    "            return True\n",
    "        elif self.computer.counter == 0:\n",
    "            self.show_game_over(winner=self.computer)\n",
    "            return True\n",
    "        else:\n",
    "            return False\n",
    " \n",
    "    def show_game_over(self, winner):\n",
    "        if winner.is_computer:\n",
    "            print(\"\\n=======================\")\n",
    "            print(\" G A M E   O V E R \")\n",
    "            print(\"=======================\")\n",
    "            print(\"The computer won the game. Sorry...\")\n",
    "            print(\"=================================\")\n",
    "        else:\n",
    "            print(\"\\n=====================\")\n",
    "            print(\" G A M E   O V E R \")\n",
    "            print(\"=====================\")\n",
    "            print(\"You won the game! Congratulations\")\n",
    "            print(\"=================================\")"
   ]
  },
  {
   "cell_type": "code",
   "execution_count": null,
   "id": "20079eee-0e1a-4006-9dd3-34329121bf16",
   "metadata": {},
   "outputs": [
    {
     "name": "stdout",
     "output_type": "stream",
     "text": [
      "=============================\n",
      "Welcome to Roll the Dice!\n",
      "=============================\n",
      "\n",
      "------ New Round ------\n"
     ]
    },
    {
     "name": "stdin",
     "output_type": "stream",
     "text": [
      "Press any key to roll the dice. \n"
     ]
    },
    {
     "name": "stdout",
     "output_type": "stream",
     "text": [
      "Your dice: 6\n",
      "Computer dice: 1\n",
      "\n",
      "You won this round!\n",
      "\n",
      "Your counter: 9\n",
      "Computer counter: 11\n",
      "\n",
      "------ New Round ------\n"
     ]
    },
    {
     "name": "stdin",
     "output_type": "stream",
     "text": [
      "Press any key to roll the dice. \n"
     ]
    },
    {
     "name": "stdout",
     "output_type": "stream",
     "text": [
      "Your dice: 5\n",
      "Computer dice: 5\n",
      "\n",
      "It's a tie!\n",
      "\n",
      "Your counter: 9\n",
      "Computer counter: 11\n",
      "\n",
      "------ New Round ------\n"
     ]
    },
    {
     "name": "stdin",
     "output_type": "stream",
     "text": [
      "Press any key to roll the dice. \n"
     ]
    },
    {
     "name": "stdout",
     "output_type": "stream",
     "text": [
      "Your dice: 3\n",
      "Computer dice: 2\n",
      "\n",
      "You won this round!\n",
      "\n",
      "Your counter: 8\n",
      "Computer counter: 12\n",
      "\n",
      "------ New Round ------\n"
     ]
    }
   ],
   "source": [
    "# Create the instances of Dice\n",
    "player_dice = Dice()\n",
    "computer_dice = Dice()\n",
    " \n",
    "# Create the instances of the players\n",
    "my_player = Player(player_dice, is_computer=False)\n",
    "computer_player = Player(computer_dice, is_computer=True)\n",
    " \n",
    "# Create the game instance\n",
    "game = DiceGame(my_player, computer_player)\n",
    " \n",
    "# Start the game logic\n",
    "game.play()"
   ]
  },
  {
   "cell_type": "code",
   "execution_count": null,
   "id": "1e1f5a07-b19a-48bb-8b60-54e69c6a8882",
   "metadata": {},
   "outputs": [],
   "source": []
  }
 ],
 "metadata": {
  "kernelspec": {
   "display_name": "Python 3 (ipykernel)",
   "language": "python",
   "name": "python3"
  },
  "language_info": {
   "codemirror_mode": {
    "name": "ipython",
    "version": 3
   },
   "file_extension": ".py",
   "mimetype": "text/x-python",
   "name": "python",
   "nbconvert_exporter": "python",
   "pygments_lexer": "ipython3",
   "version": "3.12.7"
  }
 },
 "nbformat": 4,
 "nbformat_minor": 5
}
